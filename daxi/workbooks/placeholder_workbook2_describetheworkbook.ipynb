{
 "cells": [
  {
   "cell_type": "code",
   "execution_count": null,
   "metadata": {},
   "outputs": [],
   "source": []
  }
 ],
 "metadata": {
  "kernelspec": {
   "display_name": "daxi-codes",
   "language": "python",
   "name": "daxi-codes"
  }
 },
 "nbformat": 4,
 "nbformat_minor": 2
}
