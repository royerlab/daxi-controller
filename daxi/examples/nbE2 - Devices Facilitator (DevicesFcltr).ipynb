{
 "cells": [
  {
   "cell_type": "markdown",
   "metadata": {},
   "source": [
    "# Devices Facilitator\n",
    "\n",
    "This notebook provide examples on using the devices facilitator module (the DevicesFcltr class)\n",
    "The tools include:\n",
    "1. load device configurations from a configuration panel file\n",
    "2. show all the devices configured in that configuration panel file\n",
    "100. --- open floor ---\n"
   ]
  },
  {
   "cell_type": "code",
   "execution_count": 1,
   "metadata": {},
   "outputs": [],
   "source": [
    "# demo_devicefacilitator.py\n",
    "from daxi.ctr_devicesfacilitator.devicefacilitator import DevicesFcltr\n",
    "from daxi.globals_configs_constants.constants import device_fcltr_configs_path\n",
    "from time import sleep\n",
    "# prep\n",
    "%load_ext autoreload\n",
    "%autoreload 2"
   ]
  },
  {
   "cell_type": "markdown",
   "metadata": {},
   "source": [
    "## 1. Load and show device configurations\n",
    "load device configurations from a configuration panel file"
   ]
  },
  {
   "cell_type": "code",
   "execution_count": 2,
   "metadata": {
    "scrolled": true
   },
   "outputs": [
    {
     "name": "stdout",
     "output_type": "stream",
     "text": [
      "configs_metronome: CO\n",
      "configs_counter: CI\n",
      "configs_AO_task_bundle: AO\n",
      "configs_DO_task_bundle: DO\n",
      "configs_scanning_galvo: AO subtask,  data generator:linear_ramp_soft_retraction\n",
      "configs_view_switching_galvo_1: AO subtask,  data generator:sequence\n",
      "configs_view_switching_galvo_2: AO subtask,  data generator:sequence\n",
      "configs_gamma_galvo_strip_reduction: AO subtask,  data generator:linear_ramp_soft_retraction\n",
      "configs_beta_galvo_light_sheet_incident_angle: AO subtask,  data generator:sequence\n",
      "configs_O1: AO subtask,  data generator:sequence\n",
      "configs_O3: AO subtask,  data generator:sequence\n",
      "configs_405-laser: DO subtask,  data generator:sequence\n",
      "configs_488-laser: DO subtask,  data generator:sequence\n",
      "configs_561-laser: DO subtask,  data generator:sequence\n",
      "configs_639-laser: DO subtask,  data generator:sequence\n",
      "configs_bright-field: DO subtask,  data generator:sequence\n"
     ]
    }
   ],
   "source": [
    "# checkout a device facilitator\n",
    "df = DevicesFcltr()\n",
    "\n",
    "# load the configurations\n",
    "df.load_device_configs(device_configs_file=device_fcltr_configs_path, verbose=False)\n",
    "\n",
    "# show device configurations\n",
    "df.show_devices_configs()"
   ]
  },
  {
   "cell_type": "code",
   "execution_count": null,
   "metadata": {},
   "outputs": [],
   "source": []
  }
 ],
 "metadata": {
  "kernelspec": {
   "display_name": "daxi-codes",
   "language": "python",
   "name": "daxi-codes"
  },
  "language_info": {
   "codemirror_mode": {
    "name": "ipython",
    "version": 3
   },
   "file_extension": ".py",
   "mimetype": "text/x-python",
   "name": "python",
   "nbconvert_exporter": "python",
   "pygments_lexer": "ipython3",
   "version": "3.9.12"
  }
 },
 "nbformat": 4,
 "nbformat_minor": 2
}
