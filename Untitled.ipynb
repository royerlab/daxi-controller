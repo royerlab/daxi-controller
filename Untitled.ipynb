{
 "cells": [
  {
   "cell_type": "code",
   "execution_count": 1,
   "metadata": {},
   "outputs": [
    {
     "name": "stdout",
     "output_type": "stream",
     "text": [
      "dcamapi initialized\n",
      "created camera instance\n",
      "===: timeout\n",
      "image0\n",
      "image1\n",
      "image2\n",
      "image3\n",
      "image4\n",
      "image5\n",
      "image6\n",
      "image7\n"
     ]
    },
    {
     "data": {
      "text/plain": [
       "True"
      ]
     },
     "execution_count": 1,
     "metadata": {},
     "output_type": "execute_result"
    }
   ],
   "source": [
    "from hamamatsu.dcamapi_helpers import *\n",
    "import cv2\n",
    "\n",
    "iDevice = 0  # Define the index of the device\n",
    "exposure_time_id=0x001F0110\n",
    "\n",
    "def dcamtest_show_framedata(data, windowtitle, iShown):\n",
    "    \"\"\"\n",
    "    Show numpy buffer as an image\n",
    "\n",
    "    Arg1:   NumPy array\n",
    "    Arg2:   Window name\n",
    "    Arg3:   Last window status.\n",
    "        0   open as a new window\n",
    "        <0  already closed\n",
    "        >0  already openend\n",
    "    \"\"\"\n",
    "    if iShown > 0 and cv2.getWindowProperty(windowtitle, 0) < 0:\n",
    "        return -1  # Window has been closed.\n",
    "    if iShown < 0:\n",
    "        return -1  # Window is already closed.\n",
    "\n",
    "    if data.dtype == np.uint16:\n",
    "        imax = np.amax(data)\n",
    "        if imax > 0:\n",
    "            imul = int(65535 / imax)\n",
    "            # print('Multiple %s' % imul)\n",
    "            data = data * imul\n",
    "\n",
    "        cv2.imshow(windowtitle, data)\n",
    "        return 1\n",
    "    else:\n",
    "        print('-NG: dcamtest_show_image(data) only support Numpy.uint16 data')\n",
    "        return -1\n",
    "\n",
    "\n",
    "if Dcamapi.init() is True:  # initialize Dcamapi, return True if succeeded.\n",
    "    print('dcamapi initialized')\n",
    "    dcam = Dcam(iDevice)  # define the instance of the device\n",
    "    print('created camera instance')\n",
    "    if dcam.dev_open() is True:  # open the device, return True if succeeded.\n",
    "        dcam.prop_setgetvalue(exposure_time_id, 1)\n",
    "        if dcam.buf_alloc(1) is True:  # allocate buffer for the device.\n",
    "            ###############################################################\n",
    "\n",
    "            # dcamtest_thread_live(dcam)  # live acquisition\n",
    "            if dcam.cap_start() is True:  # capturing start\n",
    "                timeout_milisec = 1000  # define a time out value in ms.\n",
    "                iWindowStatus = 0  # ??\n",
    "                imind=0\n",
    "                while iWindowStatus >= 0:\n",
    "                    if dcam.wait_capevent_frameready(timeout_milisec) is True:  # ??\n",
    "                        data = dcam.buf_getlastframedata()  # read out the last frame\n",
    "                        print('image'+str(imind))\n",
    "                        imind+=1\n",
    "                        iWindowStatus = dcamtest_show_framedata(data, 'test', iWindowStatus)\n",
    "                    else:\n",
    "                        dcamerr = dcam.lasterr()\n",
    "                        if dcamerr.is_timeout():\n",
    "                            print('===: timeout')\n",
    "                        else:\n",
    "                            print('-NG: Dcam.wait_event() fails with error {}'.format(dcamerr))\n",
    "                            break\n",
    "\n",
    "                    key = cv2.waitKey(1)\n",
    "                    if key == ord('q') or key == ord('Q'):  # if 'q' was pressed with the live window, close it\n",
    "                        break\n",
    "\n",
    "                dcam.cap_stop()\n",
    "\n",
    "            ###############################################################\n",
    "\n",
    "            dcam.buf_release()  # release the buffer\n",
    "        dcam.dev_close()\n",
    "Dcamapi.uninit()\n"
   ]
  },
  {
   "cell_type": "code",
   "execution_count": 2,
   "metadata": {},
   "outputs": [],
   "source": [
    "from hamamatsu.dcamapi_helpers import *\n",
    "import cv2"
   ]
  },
  {
   "cell_type": "code",
   "execution_count": 3,
   "metadata": {},
   "outputs": [
    {
     "data": {
      "text/plain": [
       "True"
      ]
     },
     "execution_count": 3,
     "metadata": {},
     "output_type": "execute_result"
    }
   ],
   "source": [
    "Dcamapi.init()"
   ]
  },
  {
   "cell_type": "code",
   "execution_count": 4,
   "metadata": {},
   "outputs": [],
   "source": [
    "dcam = Dcam(iDevice=0)"
   ]
  },
  {
   "cell_type": "code",
   "execution_count": 5,
   "metadata": {},
   "outputs": [
    {
     "data": {
      "text/plain": [
       "True"
      ]
     },
     "execution_count": 5,
     "metadata": {},
     "output_type": "execute_result"
    }
   ],
   "source": [
    "dcam.dev_open()"
   ]
  },
  {
   "cell_type": "code",
   "execution_count": 6,
   "metadata": {},
   "outputs": [],
   "source": [
    "propid=0x001F0110 # this is the proper ID for exposure time"
   ]
  },
  {
   "cell_type": "code",
   "execution_count": 7,
   "metadata": {},
   "outputs": [
    {
     "data": {
      "text/plain": [
       "0.009997714285714285"
      ]
     },
     "execution_count": 7,
     "metadata": {},
     "output_type": "execute_result"
    }
   ],
   "source": [
    "dcam.prop_getvalue(propid)"
   ]
  },
  {
   "cell_type": "code",
   "execution_count": 8,
   "metadata": {},
   "outputs": [
    {
     "data": {
      "text/plain": [
       "0.10000637593984962"
      ]
     },
     "execution_count": 8,
     "metadata": {},
     "output_type": "execute_result"
    }
   ],
   "source": [
    "dcam.prop_setgetvalue(propid, 0.1)"
   ]
  },
  {
   "cell_type": "code",
   "execution_count": 20,
   "metadata": {},
   "outputs": [
    {
     "data": {
      "text/plain": [
       "True"
      ]
     },
     "execution_count": 20,
     "metadata": {},
     "output_type": "execute_result"
    }
   ],
   "source": [
    "dcam.dev_close()"
   ]
  },
  {
   "cell_type": "code",
   "execution_count": null,
   "metadata": {},
   "outputs": [],
   "source": []
  }
 ],
 "metadata": {
  "kernelspec": {
   "display_name": "coPylot2",
   "language": "python",
   "name": "copylot2"
  },
  "language_info": {
   "codemirror_mode": {
    "name": "ipython",
    "version": 3
   },
   "file_extension": ".py",
   "mimetype": "text/x-python",
   "name": "python",
   "nbconvert_exporter": "python",
   "pygments_lexer": "ipython3",
   "version": "3.9.12"
  }
 },
 "nbformat": 4,
 "nbformat_minor": 5
}
