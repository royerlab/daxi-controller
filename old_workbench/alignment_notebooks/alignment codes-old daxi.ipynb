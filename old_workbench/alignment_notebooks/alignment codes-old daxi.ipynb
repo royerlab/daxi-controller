{
 "cells": [
  {
   "cell_type": "markdown",
   "metadata": {
    "pycharm": {
     "name": "#%% md\n"
    }
   },
   "source": [
    "# DaXi alignment notebook \n",
    "\n",
    "## E1 - center the beam\n",
    "\n",
    "## 1. Introduction\n",
    "* talk about why we need to hold constant voltages\n",
    "* talk about remember the direction of the voltages and fine-tune the galvo angles\n",
    "\n",
    "\n",
    "## 2. What's included in this notebook\n",
    "\n",
    "\n",
    "## 3. Relevant protocols.\n",
    "\n",
    "\n"
   ]
  },
  {
   "cell_type": "markdown",
   "metadata": {
    "pycharm": {
     "name": "#%% md\n"
    }
   },
   "source": [
    "# Import tools"
   ]
  },
  {
   "cell_type": "code",
   "execution_count": 2,
   "metadata": {
    "pycharm": {
     "name": "#%%\n"
    }
   },
   "outputs": [],
   "source": [
    "import nidaqmx\n",
    "import nidaqmx.system\n",
    "import numpy as np\n",
    "import time \n",
    "\n",
    "import sys\n",
    "sys.path.append('/Users/xiyu.yi/Desktop/Research/Projects/P-daxi-protocol/daxi-protocol')\n",
    "sys.path.append('C:/Users/PiscesScope/xiyu_workbench/daxi-protocol')\n",
    "sys.path.append('C:/Users/PiscesScope/xiyu_workbench/daxi-controller/old_workbench')\n",
    "from alignment_tools.actions import *\n",
    "from alignment_tools.device_configs_old_daxi import *"
   ]
  },
  {
   "cell_type": "markdown",
   "metadata": {
    "pycharm": {
     "name": "#%% md\n"
    }
   },
   "source": [
    "# Adjusting galvo voltages for view 1 (1 mirror view)"
   ]
  },
  {
   "cell_type": "code",
   "execution_count": 7,
   "metadata": {
    "pycharm": {
     "name": "#%%\n"
    }
   },
   "outputs": [],
   "source": [
    "time.sleep(0.2) # create a 2 seconds delay so we can walk to the setup and watch the beam to move.\n",
    "\n",
    "VSG1_view1['home voltage']= 0 # \n",
    "VSG2_view1['home voltage']= 0\n",
    "SG_view1['home voltage'] = 0\n",
    "beta_G_view1['home voltage'] = 0 # -2 would give the correct voltage offset for beta galvo.\n",
    "gamma_G_view1['home voltage'] = 0\n",
    "O1_view1['home voltage'] = 0\n",
    "\n",
    "# update the static voltages for all the galvos.\n",
    "task=gohome_all([VSG1_view1, VSG2_view1, SG_view1, beta_G_view1, gamma_G_view1, O1_view1])"
   ]
  },
  {
   "cell_type": "code",
   "execution_count": null,
   "metadata": {},
   "outputs": [],
   "source": []
  },
  {
   "cell_type": "code",
   "execution_count": null,
   "metadata": {},
   "outputs": [],
   "source": []
  },
  {
   "cell_type": "code",
   "execution_count": 96,
   "metadata": {
    "pycharm": {
     "name": "#%%\n"
    }
   },
   "outputs": [
    {
     "name": "stderr",
     "output_type": "stream",
     "text": [
      "C:\\Users\\PiscesScope\\.conda\\envs\\coPylot\\lib\\site-packages\\nidaqmx\\task.py:461: ResourceWarning: Attempted to close NI-DAQmx task of name \"_unnamedTask<52>\" but task was already closed.\n",
      "  warnings.warn(\n"
     ]
    }
   ],
   "source": [
    "task.close()"
   ]
  },
  {
   "cell_type": "code",
   "execution_count": 10,
   "metadata": {
    "pycharm": {
     "name": "#%%\n"
    }
   },
   "outputs": [],
   "source": [
    "time.sleep(0.2) # create a 2 seconds delay so we can walk to the setup and watch the beam to move.\n",
    "\n",
    "VSG1_view2['home voltage']= 0 # \n",
    "VSG2_view2['home voltage']= 0\n",
    "SG_view2['home voltage'] = 0 #1.075\n",
    "beta_G_view2['home voltage'] = -2.537 #,-2.537  #-2.537\n",
    "gamma_G_view2['home voltage'] = 0\n",
    "O1_view2['home voltage'] = 0\n",
    "\n",
    "# update the static voltages for all the galvos.\n",
    "task=gohome_all([VSG1_view2, VSG2_view2, SG_view2, beta_G_view2, gamma_G_view2, O1_view2])"
   ]
  },
  {
   "cell_type": "code",
   "execution_count": null,
   "metadata": {},
   "outputs": [],
   "source": []
  },
  {
   "cell_type": "code",
   "execution_count": 98,
   "metadata": {
    "pycharm": {
     "name": "#%%\n"
    }
   },
   "outputs": [
    {
     "name": "stderr",
     "output_type": "stream",
     "text": [
      "C:\\Users\\PiscesScope\\.conda\\envs\\coPylot\\lib\\site-packages\\nidaqmx\\task.py:461: ResourceWarning: Attempted to close NI-DAQmx task of name \"_unnamedTask<52>\" but task was already closed.\n",
      "  warnings.warn(\n"
     ]
    }
   ],
   "source": [
    "task.close()"
   ]
  },
  {
   "cell_type": "code",
   "execution_count": null,
   "metadata": {
    "pycharm": {
     "name": "#%%\n"
    }
   },
   "outputs": [],
   "source": []
  },
  {
   "cell_type": "code",
   "execution_count": null,
   "metadata": {
    "pycharm": {
     "name": "#%%\n"
    }
   },
   "outputs": [],
   "source": []
  },
  {
   "cell_type": "code",
   "execution_count": null,
   "metadata": {
    "pycharm": {
     "name": "#%%\n"
    }
   },
   "outputs": [],
   "source": []
  },
  {
   "cell_type": "code",
   "execution_count": null,
   "metadata": {
    "pycharm": {
     "name": "#%%\n"
    }
   },
   "outputs": [],
   "source": []
  },
  {
   "cell_type": "code",
   "execution_count": null,
   "metadata": {
    "pycharm": {
     "name": "#%%\n"
    }
   },
   "outputs": [],
   "source": []
  },
  {
   "cell_type": "markdown",
   "metadata": {
    "pycharm": {
     "name": "#%% md\n"
    }
   },
   "source": [
    "#  Generate periodic control signal\n",
    "## Needs:\n",
    "1. timer\n",
    "2. counter\n",
    "3. define rates for the periodic control sequence.\n",
    "4. define # of samples within a period."
   ]
  },
  {
   "cell_type": "code",
   "execution_count": 5,
   "metadata": {
    "pycharm": {
     "name": "#%%\n"
    }
   },
   "outputs": [],
   "source": [
    "# try:\n",
    "# define an ao task to generate sin wave output.\n",
    "\n",
    "# make the trigger of this ao task to be a pulse train, which is the output of a counter\n",
    "\n",
    "# define a sampler, make it generate a pulse train, and use it as a trigger for the ao task.\n",
    "\n",
    "# because daq cards only allow for 1 task per type for AI/O, \n",
    "# DI/O tasks if hardware timing is used. so these functions only \"configures\" the tasks, \n",
    "# they dont create and close tasks.\n",
    "\n",
    "def launch_sampler(param, task):\n",
    "    # try to make a pulse train as the sampling function for the ao\n",
    "    task.co_channels.add_co_pulse_chan_freq(param['channel_string_I'],\n",
    "                                                       idle_state=nidaqmx.constants.Level.LOW,\n",
    "                                                       freq=param['sampling_rate'])\n",
    "    if sampler['sample_mode'] == 'Finite':\n",
    "        m=nidaqmx.constants.AcquisitionType.FINITE\n",
    "\n",
    "    if sampler['sample_mode'] == 'Continuous':\n",
    "        m=nidaqmx.constants.AcquisitionType.CONTINUOUS\n",
    "\n",
    "    task.timing.cfg_implicit_timing(sample_mode=m,\n",
    "                                    samps_per_chan=param['num_sample'])\n",
    "\n",
    "    task.triggers.start_trigger.cfg_dig_edge_start_trig(trigger_source = param['trigger_source'],\n",
    "                                                        trigger_edge = nidaqmx.constants.Slope.RISING)\n",
    "\n",
    "    task.triggers.start_trigger.retriggerable = True\n",
    "    \n",
    "# and make a switch method [daq-tools].\n",
    "def launch_switch(param, task, status='on'):\n",
    "    \"it has to be a digital channel.\"\n",
    "    task.do_channels.add_do_chan(param['channel_string'])\n",
    "    if status == 'on':\n",
    "        task.write([True], auto_start=True)\n",
    "    else:\n",
    "        task.write([False], auto_start=True)\n",
    "\n",
    "def reset_switch(switch_task, status='on'):\n",
    "    if status == 'on':\n",
    "        switch_task.write([False], auto_start=True)\n",
    "        switch_task.write([True], auto_start=True)\n",
    "    else:\n",
    "        switch_task.write([True], auto_start=True)\n",
    "        switch_task.write([False], auto_start=True)\n"
   ]
  },
  {
   "cell_type": "markdown",
   "metadata": {
    "pycharm": {
     "name": "#%% md\n"
    }
   },
   "source": [
    "# Prepare parameters"
   ]
  },
  {
   "cell_type": "code",
   "execution_count": 6,
   "metadata": {
    "pycharm": {
     "name": "#%%\n"
    }
   },
   "outputs": [],
   "source": [
    "# define parameters of a swtich to be used as a trigger. (interface.)\n",
    "\n",
    "# define parameters\n",
    "sample_n = 300\n",
    "x=np.linspace(0, np.pi*2, sample_n*5)\n",
    "y=np.sin(x)\n",
    "\n",
    "sw = {} # switch parameters, this line is currently labeled as DIO3 on the rack. - xiyu, 2022-09-08\n",
    "# the purpose of this line is to use as a trigger for the sine v generation.\n",
    "sw['instrument_name'] = \"DaXi\"\n",
    "sw['channel I/O type'] = \"DO\"  #\n",
    "sw['channel_string'] = \"cDAQ1DIO/port0/line3\"  # name of the DAQ channel that will be used to control the device, choose one.\n",
    "sw['controlled_device_name'] = \"switch\"  # name of the deviced to be controlled. (like a switch button.)\n",
    "sw['purpose'] = \"this serves as a power switch to turn something on/off\"  # purpose of this device.\n",
    "sw['verbose'] = True  # when True, status messages will be printed.\n",
    "\n",
    "# define sampler parameters that generates a pulsed train from an internal counter.\n",
    "sampler={}\n",
    "sampler['instrument_name'] = \"DaXi\"\n",
    "sampler['channel I/O type'] = \"Counter\"  \n",
    "sampler['channel_string_I'] = \"cDAQ1/_ctr0\"  \n",
    "sampler['channel_string_O'] = \"/cDAQ1/Ctr0InternalOutput\"  \n",
    "sampler['controlled_device_name'] = \"sampler\"  \n",
    "sampler['purpose'] = \"to configure a counter to generate a pulse train\" \n",
    "sampler['verbose'] = True  \n",
    "sampler['sampling_rate'] = sample_n\n",
    "sampler['sample_mode'] = 'Finite' # specify Finite or Continuous\n",
    "sampler['num_sample'] = sample_n\n",
    "sampler['trigger_source'] = \"/cDAQ1/PFI0\" #sw['channel_string']\n",
    "\n",
    "# define ao scan parameters \n",
    "ao_scan = {}\n",
    "ao_scan['instrument_name'] = \"DaXi\"\n",
    "ao_scan['channel I/O type'] = \"AO\"\n",
    "ao_scan['sampler_channel_str'] = sampler['channel_string_O']\n",
    "ao_scan['controlled_device_name'] = \"a scanner\"\n",
    "ao_scan['ao_profile'] = list(y)\n",
    "\n",
    "def get_vtrain_sine(sample_n):\n",
    "    x=np.linspace(0,np.pi*2,sample_n)\n",
    "    y=np.sine(x)\n",
    "    return y\n"
   ]
  },
  {
   "cell_type": "markdown",
   "metadata": {
    "pycharm": {
     "name": "#%% md\n"
    }
   },
   "source": [
    "# Pre-launch tasks"
   ]
  },
  {
   "cell_type": "code",
   "execution_count": 7,
   "metadata": {
    "pycharm": {
     "name": "#%%\n"
    }
   },
   "outputs": [],
   "source": [
    "sampler_task = nidaqmx.Task()\n",
    "launch_sampler(sampler, task = sampler_task)\n",
    "\n",
    "switch_task=nidaqmx.Task()\n",
    "launch_switch(status = 'on', param = sw, task = switch_task)"
   ]
  },
  {
   "cell_type": "markdown",
   "metadata": {
    "pycharm": {
     "name": "#%% md\n"
    }
   },
   "source": [
    "# Launch tasks"
   ]
  },
  {
   "cell_type": "code",
   "execution_count": 8,
   "metadata": {
    "pycharm": {
     "name": "#%%\n"
    }
   },
   "outputs": [],
   "source": [
    "sampler_task.start()"
   ]
  },
  {
   "cell_type": "markdown",
   "metadata": {
    "pycharm": {
     "name": "#%% md\n"
    }
   },
   "source": [
    "# Trigger tasks\n"
   ]
  },
  {
   "cell_type": "code",
   "execution_count": 9,
   "metadata": {
    "pycharm": {
     "name": "#%%\n"
    }
   },
   "outputs": [],
   "source": [
    "# setup the scanners.\n",
    "reset_switch(status='on', switch_task=switch_task)"
   ]
  },
  {
   "cell_type": "markdown",
   "metadata": {
    "pycharm": {
     "name": "#%% md\n"
    }
   },
   "source": [
    "# Close tasks"
   ]
  },
  {
   "cell_type": "code",
   "execution_count": 10,
   "metadata": {
    "pycharm": {
     "name": "#%%\n"
    }
   },
   "outputs": [],
   "source": [
    "sampler_task.close()\n",
    "switch_task.close()"
   ]
  },
  {
   "cell_type": "code",
   "execution_count": 12,
   "metadata": {
    "pycharm": {
     "name": "#%%\n"
    }
   },
   "outputs": [
    {
     "ename": "DaqError",
     "evalue": "Generation cannot be started because the output buffer is empty.\nWrite data before starting a buffered generation. The following actions can empty the buffer: changing the size of the buffer, unreserving a task, setting the Regeneration Mode property, changing the Sample Mode, or configuring retriggering.\nTask Name: _unnamedTask<2>\n\nStatus Code: -200462",
     "output_type": "error",
     "traceback": [
      "\u001b[1;31m---------------------------------------------------------------------------\u001b[0m",
      "\u001b[1;31mDaqError\u001b[0m                                  Traceback (most recent call last)",
      "Input \u001b[1;32mIn [12]\u001b[0m, in \u001b[0;36m<cell line: 9>\u001b[1;34m()\u001b[0m\n\u001b[0;32m      5\u001b[0m task_ao_scanner\u001b[38;5;241m.\u001b[39mao_channels\u001b[38;5;241m.\u001b[39madd_ao_voltage_chan(device_params[\u001b[38;5;124m'\u001b[39m\u001b[38;5;124mchannel_string\u001b[39m\u001b[38;5;124m'\u001b[39m])  \u001b[38;5;66;03m# scanning galvo\u001b[39;00m\n\u001b[0;32m      6\u001b[0m task_ao_scanner\u001b[38;5;241m.\u001b[39mtiming\u001b[38;5;241m.\u001b[39mcfg_samp_clk_timing(rate\u001b[38;5;241m=\u001b[39msample_n,\n\u001b[0;32m      7\u001b[0m                                    source\u001b[38;5;241m=\u001b[39maction_params[\u001b[38;5;124m'\u001b[39m\u001b[38;5;124msampler_channel_str\u001b[39m\u001b[38;5;124m'\u001b[39m],\n\u001b[0;32m      8\u001b[0m                                    sample_mode\u001b[38;5;241m=\u001b[39mnidaqmx\u001b[38;5;241m.\u001b[39mconstants\u001b[38;5;241m.\u001b[39mAcquisitionType\u001b[38;5;241m.\u001b[39mCONTINUOUS)\n\u001b[1;32m----> 9\u001b[0m \u001b[43mtask_ao_scanner\u001b[49m\u001b[38;5;241;43m.\u001b[39;49m\u001b[43mstart\u001b[49m\u001b[43m(\u001b[49m\u001b[43m)\u001b[49m\n",
      "File \u001b[1;32m~\\.conda\\envs\\coPylot\\lib\\site-packages\\nidaqmx\\task.py:1026\u001b[0m, in \u001b[0;36mTask.start\u001b[1;34m(self)\u001b[0m\n\u001b[0;32m   1023\u001b[0m             cfunc\u001b[38;5;241m.\u001b[39margtypes \u001b[38;5;241m=\u001b[39m [lib_importer\u001b[38;5;241m.\u001b[39mtask_handle]\n\u001b[0;32m   1025\u001b[0m error_code \u001b[38;5;241m=\u001b[39m cfunc(\u001b[38;5;28mself\u001b[39m\u001b[38;5;241m.\u001b[39m_handle)\n\u001b[1;32m-> 1026\u001b[0m \u001b[43mcheck_for_error\u001b[49m\u001b[43m(\u001b[49m\u001b[43merror_code\u001b[49m\u001b[43m)\u001b[49m\n",
      "File \u001b[1;32m~\\.conda\\envs\\coPylot\\lib\\site-packages\\nidaqmx\\errors.py:127\u001b[0m, in \u001b[0;36mcheck_for_error\u001b[1;34m(error_code)\u001b[0m\n\u001b[0;32m    124\u001b[0m                 cfunc\u001b[38;5;241m.\u001b[39margtypes \u001b[38;5;241m=\u001b[39m [ctypes\u001b[38;5;241m.\u001b[39mc_char_p, ctypes\u001b[38;5;241m.\u001b[39mc_uint]\n\u001b[0;32m    125\u001b[0m     cfunc(error_buffer, \u001b[38;5;241m2048\u001b[39m)\n\u001b[1;32m--> 127\u001b[0m     \u001b[38;5;28;01mraise\u001b[39;00m DaqError(error_buffer\u001b[38;5;241m.\u001b[39mvalue\u001b[38;5;241m.\u001b[39mdecode(\u001b[38;5;124m\"\u001b[39m\u001b[38;5;124mutf-8\u001b[39m\u001b[38;5;124m\"\u001b[39m), error_code)\n\u001b[0;32m    129\u001b[0m \u001b[38;5;28;01melif\u001b[39;00m error_code \u001b[38;5;241m>\u001b[39m \u001b[38;5;241m0\u001b[39m:\n\u001b[0;32m    130\u001b[0m     error_buffer \u001b[38;5;241m=\u001b[39m ctypes\u001b[38;5;241m.\u001b[39mcreate_string_buffer(\u001b[38;5;241m2048\u001b[39m)\n",
      "\u001b[1;31mDaqError\u001b[0m: Generation cannot be started because the output buffer is empty.\nWrite data before starting a buffered generation. The following actions can empty the buffer: changing the size of the buffer, unreserving a task, setting the Regeneration Mode property, changing the Sample Mode, or configuring retriggering.\nTask Name: _unnamedTask<2>\n\nStatus Code: -200462"
     ]
    }
   ],
   "source": [
    "action_params=ao_scan\n",
    "device_params=SG\n",
    "\n",
    "task_ao_scanner = nidaqmx.Task()\n",
    "task_ao_scanner.ao_channels.add_ao_voltage_chan(device_params['channel_string'])  # scanning galvo\n",
    "task_ao_scanner.timing.cfg_samp_clk_timing(rate=sample_n,\n",
    "                                   source=action_params['sampler_channel_str'],\n",
    "                                   sample_mode=nidaqmx.constants.AcquisitionType.CONTINUOUS)\n",
    "task_ao_scanner.start()"
   ]
  },
  {
   "cell_type": "code",
   "execution_count": 8,
   "metadata": {
    "pycharm": {
     "name": "#%%\n"
    }
   },
   "outputs": [],
   "source": [
    "task_ao_scanner.stop()\n",
    "task_ao_scanner.close()"
   ]
  },
  {
   "cell_type": "code",
   "execution_count": 48,
   "metadata": {
    "pycharm": {
     "name": "#%%\n"
    }
   },
   "outputs": [
    {
     "name": "stdout",
     "output_type": "stream",
     "text": [
      "Now setting [scanning galvo] to the home position [voltage = 0v] with [offset = 0v,False] through channel ['cDAQ1AO/ao0']\n",
      "Task perfromed successfully.\n",
      "Task closed.\n"
     ]
    }
   ],
   "source": [
    "gohome(SG)"
   ]
  },
  {
   "cell_type": "code",
   "execution_count": null,
   "metadata": {
    "pycharm": {
     "name": "#%%\n"
    }
   },
   "outputs": [],
   "source": [
    "# setup a counter task to pair with the controller task.\n",
    "#? what does counter do?\n",
    "counter = nidaqmx.Task(\"counter0\")\n",
    "counter.close()"
   ]
  },
  {
   "cell_type": "code",
   "execution_count": 51,
   "metadata": {
    "pycharm": {
     "name": "#%%\n"
    }
   },
   "outputs": [
    {
     "name": "stderr",
     "output_type": "stream",
     "text": [
      "C:\\Users\\PiscesScope\\.conda\\envs\\coPylot\\lib\\site-packages\\nidaqmx\\task.py:457: ResourceWarning: Attempted to close NI-DAQmx task of name \"counter0\" but task was already closed.\n",
      "  warnings.warn(\n"
     ]
    }
   ],
   "source": [
    "counter.close()\n",
    "task.close()"
   ]
  },
  {
   "cell_type": "code",
   "execution_count": null,
   "metadata": {
    "pycharm": {
     "name": "#%%\n"
    }
   },
   "outputs": [],
   "source": []
  },
  {
   "cell_type": "code",
   "execution_count": null,
   "metadata": {
    "pycharm": {
     "name": "#%%\n"
    }
   },
   "outputs": [],
   "source": [
    "    with nidaqmx.Task() as task:\n",
    "        task.ao_channels.add_ao_voltage_chan(ch)\n",
    "        task.write([value], auto_start=True)"
   ]
  },
  {
   "cell_type": "code",
   "execution_count": null,
   "metadata": {
    "pycharm": {
     "name": "#%%\n"
    }
   },
   "outputs": [],
   "source": []
  },
  {
   "cell_type": "code",
   "execution_count": null,
   "metadata": {
    "pycharm": {
     "name": "#%%\n"
    }
   },
   "outputs": [],
   "source": []
  },
  {
   "cell_type": "code",
   "execution_count": 62,
   "metadata": {
    "pycharm": {
     "name": "#%%\n"
    }
   },
   "outputs": [],
   "source": [
    "time.sleep(2)"
   ]
  },
  {
   "cell_type": "code",
   "execution_count": 38,
   "metadata": {
    "pycharm": {
     "name": "#%%\n"
    }
   },
   "outputs": [
    {
     "data": {
      "text/plain": [
       "32"
      ]
     },
     "execution_count": 38,
     "metadata": {},
     "output_type": "execute_result"
    }
   ],
   "source": [
    "def view_switching_galvo1(channel=\"cDAQ1AO/ao1\", voltage=4.2):\n",
    "    # create task to set the channel to the desired voltage.\n",
    "    \n",
    "    \n",
    "    \n",
    "    "
   ]
  },
  {
   "cell_type": "code",
   "execution_count": 18,
   "metadata": {
    "pycharm": {
     "name": "#%%\n"
    }
   },
   "outputs": [
    {
     "name": "stdout",
     "output_type": "stream",
     "text": [
      "['cDAQ1DIO/ctr0', 'cDAQ1DIO/ctr1', 'cDAQ1DIO/ctr2', 'cDAQ1DIO/ctr3']\n"
     ]
    }
   ],
   "source": [
    "counter_names = [ci.name for ci in DAQ_device.ci_physical_chans]\n",
    "print(counter_names)"
   ]
  },
  {
   "cell_type": "code",
   "execution_count": 19,
   "metadata": {
    "pycharm": {
     "name": "#%%\n"
    }
   },
   "outputs": [
    {
     "name": "stdout",
     "output_type": "stream",
     "text": [
      "['cDAQ1DIO/ctr0', 'cDAQ1DIO/ctr1', 'cDAQ1DIO/ctr2', 'cDAQ1DIO/ctr3', 'cDAQ1DIO/freqout']\n"
     ]
    }
   ],
   "source": [
    "print([co.name for co in DAQ_device.co_physical_chans])"
   ]
  },
  {
   "cell_type": "code",
   "execution_count": 22,
   "metadata": {
    "pycharm": {
     "name": "#%%\n"
    }
   },
   "outputs": [
    {
     "data": {
      "text/plain": [
       "32"
      ]
     },
     "execution_count": 22,
     "metadata": {},
     "output_type": "execute_result"
    }
   ],
   "source": [
    "DAQ_device.co_max_size"
   ]
  },
  {
   "cell_type": "code",
   "execution_count": 26,
   "metadata": {
    "pycharm": {
     "name": "#%%\n"
    }
   },
   "outputs": [
    {
     "data": {
      "text/plain": [
       "['cDAQ1DIO/port0/line0',\n",
       " 'cDAQ1DIO/port0/line1',\n",
       " 'cDAQ1DIO/port0/line2',\n",
       " 'cDAQ1DIO/port0/line3',\n",
       " 'cDAQ1DIO/port0/line4',\n",
       " 'cDAQ1DIO/port0/line5',\n",
       " 'cDAQ1DIO/port0/line6',\n",
       " 'cDAQ1DIO/port0/line7']"
      ]
     },
     "execution_count": 26,
     "metadata": {},
     "output_type": "execute_result"
    }
   ],
   "source": [
    "DAQ_device.di_lines.channel_names"
   ]
  },
  {
   "cell_type": "code",
   "execution_count": 27,
   "metadata": {
    "pycharm": {
     "name": "#%%\n"
    }
   },
   "outputs": [
    {
     "data": {
      "text/plain": [
       "['cDAQ1DIO/port0/line0',\n",
       " 'cDAQ1DIO/port0/line1',\n",
       " 'cDAQ1DIO/port0/line2',\n",
       " 'cDAQ1DIO/port0/line3',\n",
       " 'cDAQ1DIO/port0/line4',\n",
       " 'cDAQ1DIO/port0/line5',\n",
       " 'cDAQ1DIO/port0/line6',\n",
       " 'cDAQ1DIO/port0/line7']"
      ]
     },
     "execution_count": 27,
     "metadata": {},
     "output_type": "execute_result"
    }
   ],
   "source": [
    "DAQ_device.do_lines.channel_names"
   ]
  },
  {
   "cell_type": "code",
   "execution_count": 28,
   "metadata": {
    "pycharm": {
     "name": "#%%\n"
    }
   },
   "outputs": [
    {
     "data": {
      "text/plain": [
       "'cDAQ1DIO'"
      ]
     },
     "execution_count": 28,
     "metadata": {},
     "output_type": "execute_result"
    }
   ],
   "source": [
    "DAQ_device.name"
   ]
  },
  {
   "cell_type": "code",
   "execution_count": null,
   "metadata": {
    "pycharm": {
     "name": "#%%\n"
    }
   },
   "outputs": [],
   "source": [
    "\n",
    "\n",
    "\n",
    "\n",
    "\n"
   ]
  },
  {
   "cell_type": "code",
   "execution_count": null,
   "metadata": {},
   "outputs": [],
   "source": []
  },
  {
   "cell_type": "code",
   "execution_count": null,
   "metadata": {},
   "outputs": [],
   "source": []
  },
  {
   "cell_type": "code",
   "execution_count": null,
   "metadata": {},
   "outputs": [],
   "source": []
  },
  {
   "cell_type": "code",
   "execution_count": null,
   "metadata": {},
   "outputs": [],
   "source": []
  },
  {
   "cell_type": "code",
   "execution_count": null,
   "metadata": {},
   "outputs": [],
   "source": []
  },
  {
   "cell_type": "code",
   "execution_count": 7,
   "metadata": {},
   "outputs": [],
   "source": [
    "# try counter."
   ]
  },
  {
   "cell_type": "code",
   "execution_count": 4,
   "metadata": {},
   "outputs": [],
   "source": [
    "# set up the counter to retrigger the ao and do channels\n",
    "task_ctr_retrig = nidaqmx.Task()\n",
    "task_ctr_retrig.co_channels.add_co_pulse_chan_freq(\n",
    "    \"cDAQ1/_ctr0\",\n",
    "    idle_state=nidaqmx.constants.Level.LOW,\n",
    "    freq=200,\n",
    ")\n",
    "task_ctr_retrig.timing.cfg_implicit_timing(\n",
    "    sample_mode=nidaqmx.constants.AcquisitionType.FINITE,\n",
    "    samps_per_chan=200,\n",
    ")\n",
    "task_ctr_retrig.triggers.start_trigger.cfg_dig_edge_start_trig(\n",
    "    trigger_source=sw['channel_string'], trigger_edge=nidaqmx.constants.Slope.RISING\n",
    ")\n",
    "task_ctr_retrig.triggers.start_trigger.retriggerable = True\n",
    "\n"
   ]
  },
  {
   "cell_type": "code",
   "execution_count": 5,
   "metadata": {},
   "outputs": [
    {
     "ename": "DaqError",
     "evalue": "Generation cannot be started because the output buffer is empty.\nWrite data before starting a buffered generation. The following actions can empty the buffer: changing the size of the buffer, unreserving a task, setting the Regeneration Mode property, changing the Sample Mode, or configuring retriggering.\nTask Name: _unnamedTask<1>\n\nStatus Code: -200462",
     "output_type": "error",
     "traceback": [
      "\u001b[1;31m---------------------------------------------------------------------------\u001b[0m",
      "\u001b[1;31mDaqError\u001b[0m                                  Traceback (most recent call last)",
      "Input \u001b[1;32mIn [5]\u001b[0m, in \u001b[0;36m<cell line: 10>\u001b[1;34m()\u001b[0m\n\u001b[0;32m      6\u001b[0m task_ao_scanner\u001b[38;5;241m.\u001b[39mao_channels\u001b[38;5;241m.\u001b[39madd_ao_voltage_chan(device_params[\u001b[38;5;124m'\u001b[39m\u001b[38;5;124mchannel_string\u001b[39m\u001b[38;5;124m'\u001b[39m])  \u001b[38;5;66;03m# scanning galvo\u001b[39;00m\n\u001b[0;32m      7\u001b[0m task_ao_scanner\u001b[38;5;241m.\u001b[39mtiming\u001b[38;5;241m.\u001b[39mcfg_samp_clk_timing(rate\u001b[38;5;241m=\u001b[39msample_n,\n\u001b[0;32m      8\u001b[0m                                    source\u001b[38;5;241m=\u001b[39maction_params[\u001b[38;5;124m'\u001b[39m\u001b[38;5;124msampler_channel_str\u001b[39m\u001b[38;5;124m'\u001b[39m],\n\u001b[0;32m      9\u001b[0m                                    sample_mode\u001b[38;5;241m=\u001b[39mnidaqmx\u001b[38;5;241m.\u001b[39mconstants\u001b[38;5;241m.\u001b[39mAcquisitionType\u001b[38;5;241m.\u001b[39mCONTINUOUS)\n\u001b[1;32m---> 10\u001b[0m \u001b[43mtask_ao_scanner\u001b[49m\u001b[38;5;241;43m.\u001b[39;49m\u001b[43mstart\u001b[49m\u001b[43m(\u001b[49m\u001b[43m)\u001b[49m\n",
      "File \u001b[1;32m~\\.conda\\envs\\coPylot\\lib\\site-packages\\nidaqmx\\task.py:1026\u001b[0m, in \u001b[0;36mTask.start\u001b[1;34m(self)\u001b[0m\n\u001b[0;32m   1023\u001b[0m             cfunc\u001b[38;5;241m.\u001b[39margtypes \u001b[38;5;241m=\u001b[39m [lib_importer\u001b[38;5;241m.\u001b[39mtask_handle]\n\u001b[0;32m   1025\u001b[0m error_code \u001b[38;5;241m=\u001b[39m cfunc(\u001b[38;5;28mself\u001b[39m\u001b[38;5;241m.\u001b[39m_handle)\n\u001b[1;32m-> 1026\u001b[0m \u001b[43mcheck_for_error\u001b[49m\u001b[43m(\u001b[49m\u001b[43merror_code\u001b[49m\u001b[43m)\u001b[49m\n",
      "File \u001b[1;32m~\\.conda\\envs\\coPylot\\lib\\site-packages\\nidaqmx\\errors.py:127\u001b[0m, in \u001b[0;36mcheck_for_error\u001b[1;34m(error_code)\u001b[0m\n\u001b[0;32m    124\u001b[0m                 cfunc\u001b[38;5;241m.\u001b[39margtypes \u001b[38;5;241m=\u001b[39m [ctypes\u001b[38;5;241m.\u001b[39mc_char_p, ctypes\u001b[38;5;241m.\u001b[39mc_uint]\n\u001b[0;32m    125\u001b[0m     cfunc(error_buffer, \u001b[38;5;241m2048\u001b[39m)\n\u001b[1;32m--> 127\u001b[0m     \u001b[38;5;28;01mraise\u001b[39;00m DaqError(error_buffer\u001b[38;5;241m.\u001b[39mvalue\u001b[38;5;241m.\u001b[39mdecode(\u001b[38;5;124m\"\u001b[39m\u001b[38;5;124mutf-8\u001b[39m\u001b[38;5;124m\"\u001b[39m), error_code)\n\u001b[0;32m    129\u001b[0m \u001b[38;5;28;01melif\u001b[39;00m error_code \u001b[38;5;241m>\u001b[39m \u001b[38;5;241m0\u001b[39m:\n\u001b[0;32m    130\u001b[0m     error_buffer \u001b[38;5;241m=\u001b[39m ctypes\u001b[38;5;241m.\u001b[39mcreate_string_buffer(\u001b[38;5;241m2048\u001b[39m)\n",
      "\u001b[1;31mDaqError\u001b[0m: Generation cannot be started because the output buffer is empty.\nWrite data before starting a buffered generation. The following actions can empty the buffer: changing the size of the buffer, unreserving a task, setting the Regeneration Mode property, changing the Sample Mode, or configuring retriggering.\nTask Name: _unnamedTask<1>\n\nStatus Code: -200462"
     ]
    }
   ],
   "source": [
    "# set up ao channel\n",
    "action_params=ao_scan\n",
    "device_params=SG\n",
    "\n",
    "task_ao_scanner = nidaqmx.Task()\n",
    "task_ao_scanner.ao_channels.add_ao_voltage_chan(device_params['channel_string'])  # scanning galvo\n",
    "task_ao_scanner.timing.cfg_samp_clk_timing(rate=sample_n,\n",
    "                                   source=action_params['sampler_channel_str'],\n",
    "                                   sample_mode=nidaqmx.constants.AcquisitionType.CONTINUOUS)\n",
    "task_ao_scanner.start()\n",
    "\n",
    "\n"
   ]
  },
  {
   "cell_type": "code",
   "execution_count": null,
   "metadata": {},
   "outputs": [],
   "source": [
    "task_ctr_retrig.start()\n",
    "for _ in range(self.nb_timepoints):\n",
    "    for v in range(len(data_ao)):  # change view\n",
    "        task_ao.write(data_ao[v])\n",
    "        task_ao.start()\n",
    "        print(\"number of slices to acquire:\", self.nb_slices)\n",
    "        for ch in range(\n",
    "            nr_channels\n",
    "        ):\n",
    "            # regenerate do date for non-interleaved multichannel acquisition\n",
    "            if not interleave and nr_channels > 1:\n",
    "                data_do = self._get_do_data(\n",
    "                    nr_channels, interleave, current_ch=ch\n",
    "                )\n",
    "\n",
    "            task_do.write(data_do)\n",
    "            task_do.start()\n",
    "\n",
    "            task_ctr_loop.start()\n",
    "            counts = 0\n",
    "            while (\n",
    "                counts < self.nb_slices + 1\n",
    "            ):  # Flash4.0 outputs 1 more pulse than asked\n",
    "                counts = task_ctr_loop.read()\n",
    "                time.sleep(0.005)  # wait time during loop\n",
    "            task_ctr_loop.stop()\n",
    "            print(\"counts: \", counts)\n",
    "            # print(\"counts: \", counts)\n",
    "            time.sleep(\n",
    "                self.exposure + 0.1\n",
    "            )  # add time to allow ao and do output for the last frame\n",
    "            task_do.stop()\n",
    "            print(\"one stack done!\")\n",
    "        task_ao.stop()\n",
    "\n",
    "# task_ctr_retrig.stop()\n",
    "task_ctr_retrig.close()\n",
    "task_ctr_loop.close()"
   ]
  }
 ],
 "metadata": {
  "kernelspec": {
   "display_name": "copylot",
   "language": "python",
   "name": "copylot"
  },
  "language_info": {
   "codemirror_mode": {
    "name": "ipython",
    "version": 3
   },
   "file_extension": ".py",
   "mimetype": "text/x-python",
   "name": "python",
   "nbconvert_exporter": "python",
   "pygments_lexer": "ipython3",
   "version": "3.9.12"
  }
 },
 "nbformat": 4,
 "nbformat_minor": 2
}
