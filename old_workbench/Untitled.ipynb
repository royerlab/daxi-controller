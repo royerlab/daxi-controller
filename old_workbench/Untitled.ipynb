{
 "cells": [
  {
   "cell_type": "code",
   "execution_count": 1,
   "id": "a43f120a",
   "metadata": {
    "pycharm": {
     "name": "#%%\n"
    }
   },
   "outputs": [
    {
     "name": "stdout",
     "output_type": "stream",
     "text": [
      "dcamapi initialized\n",
      "created camera instance\n",
      "===: timeout\n",
      "image0\n",
      "image1\n",
      "image2\n",
      "image3\n",
      "image4\n",
      "image5\n",
      "image6\n",
      "image7\n"
     ]
    },
    {
     "data": {
      "text/plain": [
       "True"
      ]
     },
     "execution_count": 1,
     "metadata": {},
     "output_type": "execute_result"
    }
   ],
   "source": [
    "from hamamatsu.dcamapi_helpers import *\n",
    "import cv2\n",
    "\n",
    "iDevice = 0  # Define the index of the device\n",
    "exposure_time_id=0x001F0110\n",
    "\n",
    "def dcamtest_show_framedata(data, windowtitle, iShown):\n",
    "    \"\"\"\n",
    "    Show numpy buffer as an image\n",
    "\n",
    "    Arg1:   NumPy array\n",
    "    Arg2:   Window name\n",
    "    Arg3:   Last window status.\n",
    "        0   open as a new window\n",
    "        <0  already closed\n",
    "        >0  already openend\n",
    "    \"\"\"\n",
    "    if iShown > 0 and cv2.getWindowProperty(windowtitle, 0) < 0:\n",
    "        return -1  # Window has been closed.\n",
    "    if iShown < 0:\n",
    "        return -1  # Window is already closed.\n",
    "\n",
    "    if data.dtype == np.uint16:\n",
    "        imax = np.amax(data)\n",
    "        if imax > 0:\n",
    "            imul = int(65535 / imax)\n",
    "            # print('Multiple %s' % imul)\n",
    "            data = data * imul\n",
    "\n",
    "        cv2.imshow(windowtitle, data)\n",
    "        return 1\n",
    "    else:\n",
    "        print('-NG: dcamtest_show_image(data) only support Numpy.uint16 data')\n",
    "        return -1\n",
    "\n",
    "\n",
    "if Dcamapi.init() is True:  # initialize Dcamapi, return True if succeeded.\n",
    "    print('dcamapi initialized')\n",
    "    dcam = Dcam(iDevice)  # define the instance of the device\n",
    "    print('created camera instance')\n",
    "    if dcam.dev_open() is True:  # open the device, return True if succeeded.\n",
    "        dcam.prop_setgetvalue(exposure_time_id, 1)\n",
    "        if dcam.buf_alloc(1) is True:  # allocate buffer for the device.\n",
    "            ###############################################################\n",
    "\n",
    "            # dcamtest_thread_live(dcam)  # live acquisition\n",
    "            if dcam.cap_start() is True:  # capturing start\n",
    "                timeout_milisec = 1000  # define a time out value in ms.\n",
    "                iWindowStatus = 0  # ??\n",
    "                imind=0\n",
    "                while iWindowStatus >= 0:\n",
    "                    if dcam.wait_capevent_frameready(timeout_milisec) is True:  # ??\n",
    "                        data = dcam.buf_getlastframedata()  # read out the last frame\n",
    "                        print('image'+str(imind))\n",
    "                        imind+=1\n",
    "                        iWindowStatus = dcamtest_show_framedata(data, 'test', iWindowStatus)\n",
    "                    else:\n",
    "                        dcamerr = dcam.lasterr()\n",
    "                        if dcamerr.is_timeout():\n",
    "                            print('===: timeout')\n",
    "                        else:\n",
    "                            print('-NG: Dcam.wait_event() fails with error {}'.format(dcamerr))\n",
    "                            break\n",
    "\n",
    "                    key = cv2.waitKey(1)\n",
    "                    if key == ord('q') or key == ord('Q'):  # if 'q' was pressed with the live window, close it\n",
    "                        break\n",
    "\n",
    "                dcam.cap_stop()\n",
    "\n",
    "            ###############################################################\n",
    "\n",
    "            dcam.buf_release()  # release the buffer\n",
    "        dcam.dev_close()\n",
    "Dcamapi.uninit()\n"
   ]
  },
  {
   "cell_type": "code",
   "execution_count": 2,
   "id": "9f39034a",
   "metadata": {
    "pycharm": {
     "name": "#%%\n"
    }
   },
   "outputs": [],
   "source": [
    "from hamamatsu.dcamapi_helpers import *\n",
    "import cv2"
   ]
  },
  {
   "cell_type": "code",
   "execution_count": 3,
   "id": "065bae41",
   "metadata": {
    "pycharm": {
     "name": "#%%\n"
    }
   },
   "outputs": [
    {
     "data": {
      "text/plain": [
       "True"
      ]
     },
     "execution_count": 3,
     "metadata": {},
     "output_type": "execute_result"
    }
   ],
   "source": [
    "Dcamapi.init()"
   ]
  },
  {
   "cell_type": "code",
   "execution_count": 4,
   "id": "51498299",
   "metadata": {
    "pycharm": {
     "name": "#%%\n"
    }
   },
   "outputs": [],
   "source": [
    "dcam = Dcam(iDevice=0)"
   ]
  },
  {
   "cell_type": "code",
   "execution_count": 5,
   "id": "314f3009",
   "metadata": {
    "pycharm": {
     "name": "#%%\n"
    }
   },
   "outputs": [
    {
     "data": {
      "text/plain": [
       "True"
      ]
     },
     "execution_count": 5,
     "metadata": {},
     "output_type": "execute_result"
    }
   ],
   "source": [
    "dcam.dev_open()"
   ]
  },
  {
   "cell_type": "code",
   "execution_count": 6,
   "id": "57c99e59",
   "metadata": {
    "pycharm": {
     "name": "#%%\n"
    }
   },
   "outputs": [],
   "source": [
    "propid=0x001F0110 # this is the proper ID for exposure time"
   ]
  },
  {
   "cell_type": "code",
   "execution_count": 7,
   "id": "04e2cebd",
   "metadata": {
    "pycharm": {
     "name": "#%%\n"
    }
   },
   "outputs": [
    {
     "data": {
      "text/plain": [
       "0.009997714285714285"
      ]
     },
     "execution_count": 7,
     "metadata": {},
     "output_type": "execute_result"
    }
   ],
   "source": [
    "dcam.prop_getvalue(propid)"
   ]
  },
  {
   "cell_type": "code",
   "execution_count": 8,
   "id": "7cbea6bd",
   "metadata": {
    "pycharm": {
     "name": "#%%\n"
    }
   },
   "outputs": [
    {
     "data": {
      "text/plain": [
       "0.10000637593984962"
      ]
     },
     "execution_count": 8,
     "metadata": {},
     "output_type": "execute_result"
    }
   ],
   "source": [
    "dcam.prop_setgetvalue(propid, 0.1)"
   ]
  },
  {
   "cell_type": "code",
   "execution_count": 20,
   "id": "71cb0445",
   "metadata": {
    "pycharm": {
     "name": "#%%\n"
    }
   },
   "outputs": [
    {
     "data": {
      "text/plain": [
       "True"
      ]
     },
     "execution_count": 20,
     "metadata": {},
     "output_type": "execute_result"
    }
   ],
   "source": [
    "dcam.dev_close()"
   ]
  },
  {
   "cell_type": "code",
   "execution_count": 2,
   "id": "84aa13d0",
   "metadata": {},
   "outputs": [
    {
     "data": {
      "text/plain": [
       "8"
      ]
     },
     "execution_count": 2,
     "metadata": {},
     "output_type": "execute_result"
    }
   ],
   "source": [
    "2**3"
   ]
  },
  {
   "cell_type": "code",
   "execution_count": 89,
   "id": "c9a07358",
   "metadata": {
    "pycharm": {
     "name": "#%%\n"
    }
   },
   "outputs": [],
   "source": [
    "# try to write a soft retraction function with flat top and bottom\n",
    "# [current] - 2:13 pm.\n",
    "import numpy as np\n",
    "from matplotlib import pyplot as plt\n",
    "v1 = 0\n",
    "v2 = 5\n",
    "N = 10 # half sample number\n",
    "a = (v2-v1)/N**2\n",
    "b = v1\n",
    "xs = np.arange(N)\n",
    "ys = a*xs**2+b\n",
    "# the goal is to ramp from v1 to v2 within N data points, with minimum acceleration.\n",
    "\n",
    "def soft_retraction(v0, v1, Ntotal, generate_plot=True):\n",
    "    N=np.floor(Ntotal/2) # leave enough redundancy on both ends.\n",
    "    xs=np.arange(int(N*2+1))+1\n",
    "    ys=np.ones(int(N*2+1))*v1\n",
    "    a=(v1-v0)/2/(N)**2 # acceleration\n",
    "    b=v0 # offset\n",
    "    x=np.arange(N)+1 # prepare a half curve indexes.\n",
    "    y=a*x**2 + b # calcualte half of the acceleration curve\n",
    "    y2=list(y[:-1]) + list(np.flip(-y+2*(y[-1]))) # flip it up\n",
    "    print(len(y2))\n",
    "    print(len(ys))\n",
    "    print(ys)\n",
    "    \n",
    "    ys[:len(y2)]=y2 # copy over the datapoints\n",
    "    if generate_plot:\n",
    "        plt.plot(xs, ys)\n",
    "        plt.plot(x,y,'r')\n",
    "    return xs, ys\n",
    "    \n",
    "    "
   ]
  },
  {
   "cell_type": "code",
   "execution_count": null,
   "id": "d97f85a3",
   "metadata": {},
   "outputs": [],
   "source": [
    "def soft_retraction_withramp(vramp, v0, v1, Ntotal, generate_plot=True):\n",
    "    N=np.floor(Ntotal/2) # leave enough redundancy on both ends.\n",
    "    xs=np.arange(int(N*2+1))+1\n",
    "    ys=np.ones(int(N*2+1))*v1\n",
    "    \"\"\"\n",
    "    y(x)=a*(x-c)**2 + b\n",
    "    y(0) = v0 = ac**2 + b\n",
    "    y[n] = v1 = a(n-c)**2 + b =an**2 +ac**2 -2anc + b\n",
    "    dydx=2*a*(0-c)+b=vramp = -2ac+b\n",
    "    \n",
    "    b=v0-ac^2\n",
    "    v1 = an^2 +v0 - 2anc\n",
    "    v1 - v0 = an^2 - 2anc\n",
    "    a = (v1-10)/(n^2-2nc)\n",
    "    vramp = -2ac + v0-ac^2 = v0-a(2c+c^2) = v0-(v1-v0)/(n^2 - 2nc) * (2c+c^2)\n",
    "    \n",
    "    solve this equation - leave for future.\n",
    "    \n",
    "    \"\"\"\n",
    "    a=(v1-v0)/2/(N)**2 # acceleration\n",
    "    b=v0 # offset\n",
    "    x=np.arange(N)+1 # prepare a half curve indexes.\n",
    "    y=a*x**2 + b # calcualte half of the acceleration curve\n",
    "    y2=list(y[:-1]) + list(np.flip(-y+2*(y[-1]))) # flip it up\n",
    "    print(len(y2))\n",
    "    print(len(ys))\n",
    "    print(ys)\n",
    "    \n",
    "    ys[:len(y2)]=y2 # copy over the datapoints\n",
    "    if generate_plot:\n",
    "        plt.plot(xs, ys)\n",
    "        plt.plot(x,y,'r')\n",
    "    return xs, ys"
   ]
  },
  {
   "cell_type": "code",
   "execution_count": 90,
   "id": "503ae7ab",
   "metadata": {},
   "outputs": [
    {
     "name": "stdout",
     "output_type": "stream",
     "text": [
      "19\n",
      "21\n",
      "[100. 100. 100. 100. 100. 100. 100. 100. 100. 100. 100. 100. 100. 100.\n",
      " 100. 100. 100. 100. 100. 100. 100.]\n"
     ]
    },
    {
     "data": {
      "text/plain": [
       "(array([ 1,  2,  3,  4,  5,  6,  7,  8,  9, 10, 11, 12, 13, 14, 15, 16, 17,\n",
       "        18, 19, 20, 21]),\n",
       " array([ 80.1,  80.4,  80.9,  81.6,  82.5,  83.6,  84.9,  86.4,  88.1,\n",
       "         90. ,  91.9,  93.6,  95.1,  96.4,  97.5,  98.4,  99.1,  99.6,\n",
       "         99.9, 100. , 100. ]))"
      ]
     },
     "execution_count": 90,
     "metadata": {},
     "output_type": "execute_result"
    },
    {
     "data": {
      "image/png": "[encoded data removed]",
      "text/plain": [
       "<Figure size 640x480 with 1 Axes>"
      ]
     },
     "metadata": {},
     "output_type": "display_data"
    }
   ],
   "source": [
    "soft_retraction(v0=80, v1=100, Ntotal=20, generate_plot=True)"
   ]
  },
  {
   "cell_type": "code",
   "execution_count": 98,
   "id": "fe11b5f3",
   "metadata": {},
   "outputs": [
    {
     "name": "stdout",
     "output_type": "stream",
     "text": [
      "19\n",
      "10\n"
     ]
    },
    {
     "data": {
      "image/png": "[encoded data removed]",
      "text/plain": [
       "<Figure size 640x480 with 1 Axes>"
      ]
     },
     "metadata": {},
     "output_type": "display_data"
    }
   ],
   "source": [
    "# y = ax**2 + b\n",
    "# when x==0, y=b=v0, when x==N-1, y=v1=a*(N-1)**2+v0; so a = (v1-v0)/(N-1)**2\n",
    "\n",
    "v0=10\n",
    "v1=100\n",
    "N=10\n",
    "# so\n",
    "\n",
    "a = (v1-v0)/(N-1)**2\n",
    "b = v0\n",
    "\n",
    "x=np.arange(N)\n",
    "y = a*x**2 + b\n",
    "\n",
    "# 2 segment would be:\n",
    "ys = list(y[:-1]) + list(-np.flip(y) + 2*y[-1])\n",
    "plt.plot(ys)\n",
    "print(len(ys))\n",
    "print(N)"
   ]
  },
  {
   "cell_type": "code",
   "execution_count": 116,
   "id": "a702039b",
   "metadata": {},
   "outputs": [],
   "source": [
    "def soft_retraction(v0, v1, n_total, plot_option=False):\n",
    "    \"\"\"\n",
    "    this function generate a soft retraction curve that rampls from v0 to v1 over n_total data points.\n",
    "    the retraction would keep a constant amplitude of acceleration throughout the curve, with inverse signs\n",
    "    for each half of the curve.\n",
    "    \"\"\"\n",
    "    N = np.floor(n_total/2)-1 # calculate the half-curve data points, with 1 extra data point of buffer.\n",
    "    \n",
    "    a = (v1-v0)/2/(N-1)**2 # calculate the acceleration a in equation y(x) = a*x**2 + b\n",
    "    b = v0 # calculate the offset b in equation y(x) = a*x**2 + b\n",
    "\n",
    "    x=np.arange(N) # prepare location coordiantes\n",
    "    y = a*x**2 + b # calculate position sequences.\n",
    "\n",
    "    # patch two segments of the positions to create two segments with flipped acceleration sign.\n",
    "    ys_mid = list(y[:-1]) + list(-np.flip(y) + 2*y[-1])\n",
    "    # prepare an empty vecgor for the final position sequence, and it should end at v1.\n",
    "    ys=np.ones(n_total)*v1\n",
    "    \n",
    "    # position should starts at v0\n",
    "    ys[0]=v0\n",
    "    \n",
    "    # in the middle we copy over the calculated soft retraction curve\n",
    "    ys[1:len(ys_mid)+1]=ys_mid\n",
    "    \n",
    "    # inspection\n",
    "    if plot_option:\n",
    "        plt.plot(ys,'.-')\n",
    "        plt.plot(len(ys)-1, v1,'ro')\n",
    "        plt.plot(0, v0,'ro')\n",
    "        \n",
    "    return(ys)"
   ]
  },
  {
   "cell_type": "code",
   "execution_count": 117,
   "id": "18d89c0c",
   "metadata": {},
   "outputs": [
    {
     "data": {
      "text/plain": [
       "array([ 10.      ,  10.      ,  10.703125,  12.8125  ,  16.328125,\n",
       "        21.25    ,  27.578125,  35.3125  ,  44.453125,  55.      ,\n",
       "        65.546875,  74.6875  ,  82.421875,  88.75    ,  93.671875,\n",
       "        97.1875  ,  99.296875, 100.      , 100.      , 100.      ])"
      ]
     },
     "execution_count": 117,
     "metadata": {},
     "output_type": "execute_result"
    },
    {
     "data": {
      "image/png": "[encoded data removed]",
      "text/plain": [
       "<Figure size 640x480 with 1 Axes>"
      ]
     },
     "metadata": {},
     "output_type": "display_data"
    }
   ],
   "source": [
    "soft_retraction(v0=10, v1=100, n_total=20, plot_option=True)"
   ]
  },
  {
   "cell_type": "code",
   "execution_count": 1,
   "id": "2c0c7a1d",
   "metadata": {},
   "outputs": [],
   "source": [
    "from daxi.ctr_devicesfacilitator.nidaq.devicetools.generate_functions import DAQDataGenerator"
   ]
  },
  {
   "cell_type": "code",
   "execution_count": 2,
   "id": "27076424",
   "metadata": {},
   "outputs": [],
   "source": [
    "m=DAQDataGenerator()"
   ]
  },
  {
   "cell_type": "code",
   "execution_count": 7,
   "id": "727e4d3e",
   "metadata": {},
   "outputs": [],
   "source": [
    "y=m.getfcn_linear_ramp_soft_retraction(v0=0, v1=0.5, n_sample_ramp=1000, n_sample_retraction=100)"
   ]
  },
  {
   "cell_type": "code",
   "execution_count": 8,
   "id": "dd2d7d5d",
   "metadata": {},
   "outputs": [],
   "source": [
    "from matplotlib import pyplot as plt"
   ]
  },
  {
   "cell_type": "code",
   "execution_count": 13,
   "id": "00b0b8f0",
   "metadata": {},
   "outputs": [
    {
     "data": {
      "text/plain": [
       "[<matplotlib.lines.Line2D at 0x7f957bb06070>]"
      ]
     },
     "execution_count": 13,
     "metadata": {},
     "output_type": "execute_result"
    },
    {
     "data": {
      "image/png": "[encoded data removed]",
      "text/plain": [
       "<Figure size 1000x300 with 1 Axes>"
      ]
     },
     "metadata": {},
     "output_type": "display_data"
    },
    {
     "data": {
      "image/png": "[encoded data removed]",
      "text/plain": [
       "<Figure size 1000x300 with 1 Axes>"
      ]
     },
     "metadata": {},
     "output_type": "display_data"
    }
   ],
   "source": [
    "plt.figure(figsize=(10,3))\n",
    "plt.plot(y,'.-')\n",
    "plt.figure(figsize=(10,3))\n",
    "plt.plot(y[900:1100],'.-')\n"
   ]
  },
  {
   "cell_type": "code",
   "execution_count": null,
   "id": "e09070dc",
   "metadata": {},
   "outputs": [],
   "source": []
  }
 ],
 "metadata": {
  "kernelspec": {
   "display_name": "daxi-codes",
   "language": "python",
   "name": "daxi-codes"
  },
  "language_info": {
   "codemirror_mode": {
    "name": "ipython",
    "version": 3
   },
   "file_extension": ".py",
   "mimetype": "text/x-python",
   "name": "python",
   "nbconvert_exporter": "python",
   "pygments_lexer": "ipython3",
   "version": "3.9.13"
  }
 },
 "nbformat": 4,
 "nbformat_minor": 5
}
